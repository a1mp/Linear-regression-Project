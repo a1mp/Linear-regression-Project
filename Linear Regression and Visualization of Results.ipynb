{
 "cells": [
  {
   "cell_type": "markdown",
   "id": "496fa375",
   "metadata": {},
   "source": [
    "Project 9: A Data Analysis of my Own\n",
    "\n",
    "Your name: Chris Levy Remesha Ngabo\n",
    "\n",
    "Helper: Prof Kumar Parteek"
   ]
  },
  {
   "cell_type": "markdown",
   "id": "46fb1c85",
   "metadata": {},
   "source": [
    "PART 1: READING THE DATA AND PROCESSING IT"
   ]
  },
  {
   "cell_type": "markdown",
   "id": "f9a928e4",
   "metadata": {},
   "source": [
    "1.1 READING THE DATA"
   ]
  },
  {
   "cell_type": "code",
   "execution_count": 84,
   "id": "982ba0c6",
   "metadata": {},
   "outputs": [],
   "source": [
    "# Importing the Libraries\n",
    "import numpy as np\n",
    "import pandas as pd\n",
    "import matplotlib.pyplot as plt"
   ]
  },
  {
   "cell_type": "code",
   "execution_count": 85,
   "id": "11d5ffd3",
   "metadata": {},
   "outputs": [
    {
     "data": {
      "text/html": [
       "<div>\n",
       "<style scoped>\n",
       "    .dataframe tbody tr th:only-of-type {\n",
       "        vertical-align: middle;\n",
       "    }\n",
       "\n",
       "    .dataframe tbody tr th {\n",
       "        vertical-align: top;\n",
       "    }\n",
       "\n",
       "    .dataframe thead th {\n",
       "        text-align: right;\n",
       "    }\n",
       "</style>\n",
       "<table border=\"1\" class=\"dataframe\">\n",
       "  <thead>\n",
       "    <tr style=\"text-align: right;\">\n",
       "      <th></th>\n",
       "      <th>Entity</th>\n",
       "      <th>Code</th>\n",
       "      <th>Year</th>\n",
       "      <th>Prevalence of undernourishment (% of population)</th>\n",
       "    </tr>\n",
       "  </thead>\n",
       "  <tbody>\n",
       "    <tr>\n",
       "      <th>0</th>\n",
       "      <td>Afghanistan</td>\n",
       "      <td>AFG</td>\n",
       "      <td>2001</td>\n",
       "      <td>47.799999</td>\n",
       "    </tr>\n",
       "    <tr>\n",
       "      <th>1</th>\n",
       "      <td>Afghanistan</td>\n",
       "      <td>AFG</td>\n",
       "      <td>2002</td>\n",
       "      <td>45.599998</td>\n",
       "    </tr>\n",
       "    <tr>\n",
       "      <th>2</th>\n",
       "      <td>Afghanistan</td>\n",
       "      <td>AFG</td>\n",
       "      <td>2003</td>\n",
       "      <td>40.599998</td>\n",
       "    </tr>\n",
       "    <tr>\n",
       "      <th>3</th>\n",
       "      <td>Afghanistan</td>\n",
       "      <td>AFG</td>\n",
       "      <td>2004</td>\n",
       "      <td>38.000000</td>\n",
       "    </tr>\n",
       "    <tr>\n",
       "      <th>4</th>\n",
       "      <td>Afghanistan</td>\n",
       "      <td>AFG</td>\n",
       "      <td>2005</td>\n",
       "      <td>36.099998</td>\n",
       "    </tr>\n",
       "    <tr>\n",
       "      <th>5</th>\n",
       "      <td>Afghanistan</td>\n",
       "      <td>AFG</td>\n",
       "      <td>2006</td>\n",
       "      <td>33.299999</td>\n",
       "    </tr>\n",
       "    <tr>\n",
       "      <th>6</th>\n",
       "      <td>Afghanistan</td>\n",
       "      <td>AFG</td>\n",
       "      <td>2007</td>\n",
       "      <td>29.799999</td>\n",
       "    </tr>\n",
       "    <tr>\n",
       "      <th>7</th>\n",
       "      <td>Afghanistan</td>\n",
       "      <td>AFG</td>\n",
       "      <td>2008</td>\n",
       "      <td>26.500000</td>\n",
       "    </tr>\n",
       "    <tr>\n",
       "      <th>8</th>\n",
       "      <td>Afghanistan</td>\n",
       "      <td>AFG</td>\n",
       "      <td>2009</td>\n",
       "      <td>24.400000</td>\n",
       "    </tr>\n",
       "    <tr>\n",
       "      <th>9</th>\n",
       "      <td>Afghanistan</td>\n",
       "      <td>AFG</td>\n",
       "      <td>2010</td>\n",
       "      <td>23.700001</td>\n",
       "    </tr>\n",
       "    <tr>\n",
       "      <th>10</th>\n",
       "      <td>Afghanistan</td>\n",
       "      <td>AFG</td>\n",
       "      <td>2011</td>\n",
       "      <td>24.700001</td>\n",
       "    </tr>\n",
       "    <tr>\n",
       "      <th>11</th>\n",
       "      <td>Afghanistan</td>\n",
       "      <td>AFG</td>\n",
       "      <td>2012</td>\n",
       "      <td>28.200001</td>\n",
       "    </tr>\n",
       "    <tr>\n",
       "      <th>12</th>\n",
       "      <td>Afghanistan</td>\n",
       "      <td>AFG</td>\n",
       "      <td>2013</td>\n",
       "      <td>26.299999</td>\n",
       "    </tr>\n",
       "    <tr>\n",
       "      <th>13</th>\n",
       "      <td>Afghanistan</td>\n",
       "      <td>AFG</td>\n",
       "      <td>2014</td>\n",
       "      <td>24.200001</td>\n",
       "    </tr>\n",
       "    <tr>\n",
       "      <th>14</th>\n",
       "      <td>Afghanistan</td>\n",
       "      <td>AFG</td>\n",
       "      <td>2015</td>\n",
       "      <td>21.500000</td>\n",
       "    </tr>\n",
       "    <tr>\n",
       "      <th>15</th>\n",
       "      <td>Afghanistan</td>\n",
       "      <td>AFG</td>\n",
       "      <td>2016</td>\n",
       "      <td>22.200001</td>\n",
       "    </tr>\n",
       "    <tr>\n",
       "      <th>16</th>\n",
       "      <td>Afghanistan</td>\n",
       "      <td>AFG</td>\n",
       "      <td>2017</td>\n",
       "      <td>23.000000</td>\n",
       "    </tr>\n",
       "    <tr>\n",
       "      <th>17</th>\n",
       "      <td>Afghanistan</td>\n",
       "      <td>AFG</td>\n",
       "      <td>2018</td>\n",
       "      <td>23.400000</td>\n",
       "    </tr>\n",
       "    <tr>\n",
       "      <th>18</th>\n",
       "      <td>Afghanistan</td>\n",
       "      <td>AFG</td>\n",
       "      <td>2019</td>\n",
       "      <td>25.600000</td>\n",
       "    </tr>\n",
       "    <tr>\n",
       "      <th>19</th>\n",
       "      <td>Albania</td>\n",
       "      <td>ALB</td>\n",
       "      <td>2001</td>\n",
       "      <td>4.900000</td>\n",
       "    </tr>\n",
       "  </tbody>\n",
       "</table>\n",
       "</div>"
      ],
      "text/plain": [
       "         Entity Code  Year  Prevalence of undernourishment (% of population)\n",
       "0   Afghanistan  AFG  2001                                         47.799999\n",
       "1   Afghanistan  AFG  2002                                         45.599998\n",
       "2   Afghanistan  AFG  2003                                         40.599998\n",
       "3   Afghanistan  AFG  2004                                         38.000000\n",
       "4   Afghanistan  AFG  2005                                         36.099998\n",
       "5   Afghanistan  AFG  2006                                         33.299999\n",
       "6   Afghanistan  AFG  2007                                         29.799999\n",
       "7   Afghanistan  AFG  2008                                         26.500000\n",
       "8   Afghanistan  AFG  2009                                         24.400000\n",
       "9   Afghanistan  AFG  2010                                         23.700001\n",
       "10  Afghanistan  AFG  2011                                         24.700001\n",
       "11  Afghanistan  AFG  2012                                         28.200001\n",
       "12  Afghanistan  AFG  2013                                         26.299999\n",
       "13  Afghanistan  AFG  2014                                         24.200001\n",
       "14  Afghanistan  AFG  2015                                         21.500000\n",
       "15  Afghanistan  AFG  2016                                         22.200001\n",
       "16  Afghanistan  AFG  2017                                         23.000000\n",
       "17  Afghanistan  AFG  2018                                         23.400000\n",
       "18  Afghanistan  AFG  2019                                         25.600000\n",
       "19      Albania  ALB  2001                                          4.900000"
      ]
     },
     "execution_count": 85,
     "metadata": {},
     "output_type": "execute_result"
    }
   ],
   "source": [
    "#read the dataset and displaying the first 20 rows\n",
    "df = pd.read_csv('prevalence-of-undernourishment.csv')\n",
    "df.head(20)"
   ]
  },
  {
   "cell_type": "markdown",
   "id": "95e78388",
   "metadata": {},
   "source": [
    "1.2 LINEAR REGRESSION PROCESS"
   ]
  },
  {
   "cell_type": "code",
   "execution_count": 86,
   "id": "0f92f0e0",
   "metadata": {},
   "outputs": [
    {
     "data": {
      "text/html": [
       "<div>\n",
       "<style scoped>\n",
       "    .dataframe tbody tr th:only-of-type {\n",
       "        vertical-align: middle;\n",
       "    }\n",
       "\n",
       "    .dataframe tbody tr th {\n",
       "        vertical-align: top;\n",
       "    }\n",
       "\n",
       "    .dataframe thead th {\n",
       "        text-align: right;\n",
       "    }\n",
       "</style>\n",
       "<table border=\"1\" class=\"dataframe\">\n",
       "  <thead>\n",
       "    <tr style=\"text-align: right;\">\n",
       "      <th></th>\n",
       "      <th>Entity</th>\n",
       "      <th>Code</th>\n",
       "      <th>Year</th>\n",
       "      <th>Prevalence of undernourishment (% of population)</th>\n",
       "    </tr>\n",
       "  </thead>\n",
       "  <tbody>\n",
       "    <tr>\n",
       "      <th>0</th>\n",
       "      <td>Afghanistan</td>\n",
       "      <td>AFG</td>\n",
       "      <td>2001</td>\n",
       "      <td>47.799999</td>\n",
       "    </tr>\n",
       "    <tr>\n",
       "      <th>1</th>\n",
       "      <td>Afghanistan</td>\n",
       "      <td>AFG</td>\n",
       "      <td>2002</td>\n",
       "      <td>45.599998</td>\n",
       "    </tr>\n",
       "    <tr>\n",
       "      <th>2</th>\n",
       "      <td>Afghanistan</td>\n",
       "      <td>AFG</td>\n",
       "      <td>2003</td>\n",
       "      <td>40.599998</td>\n",
       "    </tr>\n",
       "    <tr>\n",
       "      <th>3</th>\n",
       "      <td>Afghanistan</td>\n",
       "      <td>AFG</td>\n",
       "      <td>2004</td>\n",
       "      <td>38.000000</td>\n",
       "    </tr>\n",
       "    <tr>\n",
       "      <th>4</th>\n",
       "      <td>Afghanistan</td>\n",
       "      <td>AFG</td>\n",
       "      <td>2005</td>\n",
       "      <td>36.099998</td>\n",
       "    </tr>\n",
       "    <tr>\n",
       "      <th>5</th>\n",
       "      <td>Afghanistan</td>\n",
       "      <td>AFG</td>\n",
       "      <td>2006</td>\n",
       "      <td>33.299999</td>\n",
       "    </tr>\n",
       "    <tr>\n",
       "      <th>6</th>\n",
       "      <td>Afghanistan</td>\n",
       "      <td>AFG</td>\n",
       "      <td>2007</td>\n",
       "      <td>29.799999</td>\n",
       "    </tr>\n",
       "    <tr>\n",
       "      <th>7</th>\n",
       "      <td>Afghanistan</td>\n",
       "      <td>AFG</td>\n",
       "      <td>2008</td>\n",
       "      <td>26.500000</td>\n",
       "    </tr>\n",
       "    <tr>\n",
       "      <th>8</th>\n",
       "      <td>Afghanistan</td>\n",
       "      <td>AFG</td>\n",
       "      <td>2009</td>\n",
       "      <td>24.400000</td>\n",
       "    </tr>\n",
       "    <tr>\n",
       "      <th>9</th>\n",
       "      <td>Afghanistan</td>\n",
       "      <td>AFG</td>\n",
       "      <td>2010</td>\n",
       "      <td>23.700001</td>\n",
       "    </tr>\n",
       "    <tr>\n",
       "      <th>10</th>\n",
       "      <td>Afghanistan</td>\n",
       "      <td>AFG</td>\n",
       "      <td>2011</td>\n",
       "      <td>24.700001</td>\n",
       "    </tr>\n",
       "    <tr>\n",
       "      <th>11</th>\n",
       "      <td>Afghanistan</td>\n",
       "      <td>AFG</td>\n",
       "      <td>2012</td>\n",
       "      <td>28.200001</td>\n",
       "    </tr>\n",
       "    <tr>\n",
       "      <th>12</th>\n",
       "      <td>Afghanistan</td>\n",
       "      <td>AFG</td>\n",
       "      <td>2013</td>\n",
       "      <td>26.299999</td>\n",
       "    </tr>\n",
       "    <tr>\n",
       "      <th>13</th>\n",
       "      <td>Afghanistan</td>\n",
       "      <td>AFG</td>\n",
       "      <td>2014</td>\n",
       "      <td>24.200001</td>\n",
       "    </tr>\n",
       "    <tr>\n",
       "      <th>14</th>\n",
       "      <td>Afghanistan</td>\n",
       "      <td>AFG</td>\n",
       "      <td>2015</td>\n",
       "      <td>21.500000</td>\n",
       "    </tr>\n",
       "    <tr>\n",
       "      <th>15</th>\n",
       "      <td>Afghanistan</td>\n",
       "      <td>AFG</td>\n",
       "      <td>2016</td>\n",
       "      <td>22.200001</td>\n",
       "    </tr>\n",
       "    <tr>\n",
       "      <th>16</th>\n",
       "      <td>Afghanistan</td>\n",
       "      <td>AFG</td>\n",
       "      <td>2017</td>\n",
       "      <td>23.000000</td>\n",
       "    </tr>\n",
       "    <tr>\n",
       "      <th>17</th>\n",
       "      <td>Afghanistan</td>\n",
       "      <td>AFG</td>\n",
       "      <td>2018</td>\n",
       "      <td>23.400000</td>\n",
       "    </tr>\n",
       "    <tr>\n",
       "      <th>18</th>\n",
       "      <td>Afghanistan</td>\n",
       "      <td>AFG</td>\n",
       "      <td>2019</td>\n",
       "      <td>25.600000</td>\n",
       "    </tr>\n",
       "  </tbody>\n",
       "</table>\n",
       "</div>"
      ],
      "text/plain": [
       "         Entity Code  Year  Prevalence of undernourishment (% of population)\n",
       "0   Afghanistan  AFG  2001                                         47.799999\n",
       "1   Afghanistan  AFG  2002                                         45.599998\n",
       "2   Afghanistan  AFG  2003                                         40.599998\n",
       "3   Afghanistan  AFG  2004                                         38.000000\n",
       "4   Afghanistan  AFG  2005                                         36.099998\n",
       "5   Afghanistan  AFG  2006                                         33.299999\n",
       "6   Afghanistan  AFG  2007                                         29.799999\n",
       "7   Afghanistan  AFG  2008                                         26.500000\n",
       "8   Afghanistan  AFG  2009                                         24.400000\n",
       "9   Afghanistan  AFG  2010                                         23.700001\n",
       "10  Afghanistan  AFG  2011                                         24.700001\n",
       "11  Afghanistan  AFG  2012                                         28.200001\n",
       "12  Afghanistan  AFG  2013                                         26.299999\n",
       "13  Afghanistan  AFG  2014                                         24.200001\n",
       "14  Afghanistan  AFG  2015                                         21.500000\n",
       "15  Afghanistan  AFG  2016                                         22.200001\n",
       "16  Afghanistan  AFG  2017                                         23.000000\n",
       "17  Afghanistan  AFG  2018                                         23.400000\n",
       "18  Afghanistan  AFG  2019                                         25.600000"
      ]
     },
     "execution_count": 86,
     "metadata": {},
     "output_type": "execute_result"
    }
   ],
   "source": [
    "#create a sub-dataset for the first entity dataframe for one country using .iloc[] \n",
    "df_AFG = df.iloc[0:19]\n",
    "df_AFG"
   ]
  },
  {
   "cell_type": "code",
   "execution_count": 87,
   "id": "7e7a5466",
   "metadata": {},
   "outputs": [
    {
     "data": {
      "text/html": [
       "<div>\n",
       "<style scoped>\n",
       "    .dataframe tbody tr th:only-of-type {\n",
       "        vertical-align: middle;\n",
       "    }\n",
       "\n",
       "    .dataframe tbody tr th {\n",
       "        vertical-align: top;\n",
       "    }\n",
       "\n",
       "    .dataframe thead th {\n",
       "        text-align: right;\n",
       "    }\n",
       "</style>\n",
       "<table border=\"1\" class=\"dataframe\">\n",
       "  <thead>\n",
       "    <tr style=\"text-align: right;\">\n",
       "      <th></th>\n",
       "      <th>Year</th>\n",
       "      <th>Prevalence of undernourishment (% of population)</th>\n",
       "    </tr>\n",
       "  </thead>\n",
       "  <tbody>\n",
       "    <tr>\n",
       "      <th>0</th>\n",
       "      <td>2001</td>\n",
       "      <td>47.799999</td>\n",
       "    </tr>\n",
       "    <tr>\n",
       "      <th>1</th>\n",
       "      <td>2002</td>\n",
       "      <td>45.599998</td>\n",
       "    </tr>\n",
       "    <tr>\n",
       "      <th>2</th>\n",
       "      <td>2003</td>\n",
       "      <td>40.599998</td>\n",
       "    </tr>\n",
       "  </tbody>\n",
       "</table>\n",
       "</div>"
      ],
      "text/plain": [
       "   Year  Prevalence of undernourishment (% of population)\n",
       "0  2001                                         47.799999\n",
       "1  2002                                         45.599998\n",
       "2  2003                                         40.599998"
      ]
     },
     "execution_count": 87,
     "metadata": {},
     "output_type": "execute_result"
    }
   ],
   "source": [
    "#Select only the columns you want to keep.\n",
    "df_reduced_AFG = df_AFG.loc[:, ['Year', 'Prevalence of undernourishment (% of population)']]\n",
    "#read the first 3 rows\n",
    "df_reduced_AFG.head(3)"
   ]
  },
  {
   "cell_type": "code",
   "execution_count": 88,
   "id": "829e5382",
   "metadata": {},
   "outputs": [
    {
     "data": {
      "text/html": [
       "<div>\n",
       "<style scoped>\n",
       "    .dataframe tbody tr th:only-of-type {\n",
       "        vertical-align: middle;\n",
       "    }\n",
       "\n",
       "    .dataframe tbody tr th {\n",
       "        vertical-align: top;\n",
       "    }\n",
       "\n",
       "    .dataframe thead th {\n",
       "        text-align: right;\n",
       "    }\n",
       "</style>\n",
       "<table border=\"1\" class=\"dataframe\">\n",
       "  <thead>\n",
       "    <tr style=\"text-align: right;\">\n",
       "      <th></th>\n",
       "      <th>X</th>\n",
       "      <th>Y</th>\n",
       "    </tr>\n",
       "  </thead>\n",
       "  <tbody>\n",
       "    <tr>\n",
       "      <th>0</th>\n",
       "      <td>2001</td>\n",
       "      <td>47.799999</td>\n",
       "    </tr>\n",
       "    <tr>\n",
       "      <th>1</th>\n",
       "      <td>2002</td>\n",
       "      <td>45.599998</td>\n",
       "    </tr>\n",
       "    <tr>\n",
       "      <th>2</th>\n",
       "      <td>2003</td>\n",
       "      <td>40.599998</td>\n",
       "    </tr>\n",
       "  </tbody>\n",
       "</table>\n",
       "</div>"
      ],
      "text/plain": [
       "      X          Y\n",
       "0  2001  47.799999\n",
       "1  2002  45.599998\n",
       "2  2003  40.599998"
      ]
     },
     "execution_count": 88,
     "metadata": {},
     "output_type": "execute_result"
    }
   ],
   "source": [
    "# rename the columns Year\" and \"Pevalence of undernourishment (% of population)\" respectively X and Y\n",
    "df_reduced_AFG.columns = ['X', 'Y']\n",
    "# Read the first 3 rows\n",
    "df_reduced_AFG.head(3)"
   ]
  },
  {
   "cell_type": "code",
   "execution_count": 89,
   "id": "58909007",
   "metadata": {},
   "outputs": [
    {
     "data": {
      "text/plain": [
       "array([[2001],\n",
       "       [2002],\n",
       "       [2003],\n",
       "       [2004],\n",
       "       [2005],\n",
       "       [2006],\n",
       "       [2007],\n",
       "       [2008],\n",
       "       [2009],\n",
       "       [2010],\n",
       "       [2011],\n",
       "       [2012],\n",
       "       [2013],\n",
       "       [2014],\n",
       "       [2015],\n",
       "       [2016],\n",
       "       [2017],\n",
       "       [2018],\n",
       "       [2019]])"
      ]
     },
     "execution_count": 89,
     "metadata": {},
     "output_type": "execute_result"
    }
   ],
   "source": [
    "#X column is set alone by selecting all rows of df_reduced_AFG and all columns except for the last one\n",
    "X = df_reduced_AFG.iloc[:, :- 1].values\n",
    "X"
   ]
  },
  {
   "cell_type": "code",
   "execution_count": 90,
   "id": "03fdf0b3",
   "metadata": {},
   "outputs": [
    {
     "data": {
      "text/plain": [
       "array([47.79999924, 45.59999847, 40.59999847, 38.        , 36.09999847,\n",
       "       33.29999924, 29.79999924, 26.5       , 24.39999962, 23.70000076,\n",
       "       24.70000076, 28.20000076, 26.29999924, 24.20000076, 21.5       ,\n",
       "       22.20000076, 23.        , 23.39999962, 25.60000038])"
      ]
     },
     "execution_count": 90,
     "metadata": {},
     "output_type": "execute_result"
    }
   ],
   "source": [
    "#Y column is set alone by selecting all rows of df_reduced_AFG and only the second column. \n",
    "Y= df_reduced_AFG.iloc[:, 1].values\n",
    "Y"
   ]
  },
  {
   "cell_type": "code",
   "execution_count": 91,
   "id": "715b67be",
   "metadata": {},
   "outputs": [],
   "source": [
    "from sklearn.model_selection import train_test_split\n",
    "# Split the data into training and testing sets, with 1/2 of the data. The test set is selected randomly.\n",
    "X_train, X_test, y_train, y_test = train_test_split(X,Y,test_size= 1/2) "
   ]
  },
  {
   "cell_type": "code",
   "execution_count": 92,
   "id": "dee958e5",
   "metadata": {},
   "outputs": [
    {
     "data": {
      "text/plain": [
       "array([[2002],\n",
       "       [2012],\n",
       "       [2015],\n",
       "       [2016],\n",
       "       [2005],\n",
       "       [2018],\n",
       "       [2008],\n",
       "       [2004],\n",
       "       [2011]])"
      ]
     },
     "execution_count": 92,
     "metadata": {},
     "output_type": "execute_result"
    }
   ],
   "source": [
    "# Display one of the variables to see what it looks like just for fun\n",
    "X_train"
   ]
  },
  {
   "cell_type": "code",
   "execution_count": 93,
   "id": "06680871",
   "metadata": {},
   "outputs": [
    {
     "name": "stdout",
     "output_type": "stream",
     "text": [
      "      X          y\n",
      "0  2002  45.599998\n",
      "1  2012  28.200001\n",
      "2  2015  21.500000\n",
      "3  2016  22.200001\n",
      "4  2005  36.099998\n"
     ]
    }
   ],
   "source": [
    "# Create a DataFrame from X_train and y_train\n",
    "train_df = pd.DataFrame({'X': X_train.flatten(), 'y': y_train})\n",
    "\n",
    "# Display the first few rows of the DataFrame\n",
    "print(train_df.head())"
   ]
  },
  {
   "cell_type": "code",
   "execution_count": 94,
   "id": "a517a61c",
   "metadata": {},
   "outputs": [
    {
     "data": {
      "text/plain": [
       "LinearRegression()"
      ]
     },
     "execution_count": 94,
     "metadata": {},
     "output_type": "execute_result"
    }
   ],
   "source": [
    "from sklearn.linear_model import LinearRegression\n",
    "linear_regressor = LinearRegression()\n",
    "linear_regressor.fit(X_train, y_train)"
   ]
  },
  {
   "cell_type": "code",
   "execution_count": 95,
   "id": "5d2b9eb0",
   "metadata": {},
   "outputs": [
    {
     "data": {
      "text/plain": [
       "array([20.34755415, 31.06652338, 33.74626568, 24.36716761, 41.7854926 ,\n",
       "       29.72665222, 17.66781185, 35.08613683, 25.70703876, 39.10575029])"
      ]
     },
     "execution_count": 95,
     "metadata": {},
     "output_type": "execute_result"
    }
   ],
   "source": [
    "# Predicting the Test set results\n",
    "y_pred = linear_regressor.predict(X_test)\n",
    "y_pred"
   ]
  },
  {
   "cell_type": "code",
   "execution_count": 96,
   "id": "c080264d",
   "metadata": {},
   "outputs": [
    {
     "data": {
      "text/html": [
       "<div>\n",
       "<style scoped>\n",
       "    .dataframe tbody tr th:only-of-type {\n",
       "        vertical-align: middle;\n",
       "    }\n",
       "\n",
       "    .dataframe tbody tr th {\n",
       "        vertical-align: top;\n",
       "    }\n",
       "\n",
       "    .dataframe thead th {\n",
       "        text-align: right;\n",
       "    }\n",
       "</style>\n",
       "<table border=\"1\" class=\"dataframe\">\n",
       "  <thead>\n",
       "    <tr style=\"text-align: right;\">\n",
       "      <th></th>\n",
       "      <th>x</th>\n",
       "      <th>y</th>\n",
       "    </tr>\n",
       "  </thead>\n",
       "  <tbody>\n",
       "    <tr>\n",
       "      <th>0</th>\n",
       "      <td>2002</td>\n",
       "      <td>45.599998</td>\n",
       "    </tr>\n",
       "    <tr>\n",
       "      <th>1</th>\n",
       "      <td>2012</td>\n",
       "      <td>28.200001</td>\n",
       "    </tr>\n",
       "    <tr>\n",
       "      <th>2</th>\n",
       "      <td>2015</td>\n",
       "      <td>21.500000</td>\n",
       "    </tr>\n",
       "    <tr>\n",
       "      <th>3</th>\n",
       "      <td>2016</td>\n",
       "      <td>22.200001</td>\n",
       "    </tr>\n",
       "    <tr>\n",
       "      <th>4</th>\n",
       "      <td>2005</td>\n",
       "      <td>36.099998</td>\n",
       "    </tr>\n",
       "    <tr>\n",
       "      <th>5</th>\n",
       "      <td>2018</td>\n",
       "      <td>23.400000</td>\n",
       "    </tr>\n",
       "    <tr>\n",
       "      <th>6</th>\n",
       "      <td>2008</td>\n",
       "      <td>26.500000</td>\n",
       "    </tr>\n",
       "    <tr>\n",
       "      <th>7</th>\n",
       "      <td>2004</td>\n",
       "      <td>38.000000</td>\n",
       "    </tr>\n",
       "    <tr>\n",
       "      <th>8</th>\n",
       "      <td>2011</td>\n",
       "      <td>24.700001</td>\n",
       "    </tr>\n",
       "  </tbody>\n",
       "</table>\n",
       "</div>"
      ],
      "text/plain": [
       "      x          y\n",
       "0  2002  45.599998\n",
       "1  2012  28.200001\n",
       "2  2015  21.500000\n",
       "3  2016  22.200001\n",
       "4  2005  36.099998\n",
       "5  2018  23.400000\n",
       "6  2008  26.500000\n",
       "7  2004  38.000000\n",
       "8  2011  24.700001"
      ]
     },
     "execution_count": 96,
     "metadata": {},
     "output_type": "execute_result"
    }
   ],
   "source": [
    "# Create a DataFrame from X_train and y_train\n",
    "train_df = pd.DataFrame({'x': X_train.flatten(), 'y': y_train})\n",
    "\n",
    "# Display rows of the DataFrame\n",
    "train_df"
   ]
  },
  {
   "cell_type": "code",
   "execution_count": 97,
   "id": "06be1d89",
   "metadata": {},
   "outputs": [
    {
     "data": {
      "text/html": [
       "<div>\n",
       "<style scoped>\n",
       "    .dataframe tbody tr th:only-of-type {\n",
       "        vertical-align: middle;\n",
       "    }\n",
       "\n",
       "    .dataframe tbody tr th {\n",
       "        vertical-align: top;\n",
       "    }\n",
       "\n",
       "    .dataframe thead th {\n",
       "        text-align: right;\n",
       "    }\n",
       "</style>\n",
       "<table border=\"1\" class=\"dataframe\">\n",
       "  <thead>\n",
       "    <tr style=\"text-align: right;\">\n",
       "      <th></th>\n",
       "      <th>x_test</th>\n",
       "      <th>y_test</th>\n",
       "      <th>y_pred</th>\n",
       "    </tr>\n",
       "  </thead>\n",
       "  <tbody>\n",
       "    <tr>\n",
       "      <th>0</th>\n",
       "      <td>2017</td>\n",
       "      <td>23.000000</td>\n",
       "      <td>20.347554</td>\n",
       "    </tr>\n",
       "    <tr>\n",
       "      <th>1</th>\n",
       "      <td>2009</td>\n",
       "      <td>24.400000</td>\n",
       "      <td>31.066523</td>\n",
       "    </tr>\n",
       "    <tr>\n",
       "      <th>2</th>\n",
       "      <td>2007</td>\n",
       "      <td>29.799999</td>\n",
       "      <td>33.746266</td>\n",
       "    </tr>\n",
       "    <tr>\n",
       "      <th>3</th>\n",
       "      <td>2014</td>\n",
       "      <td>24.200001</td>\n",
       "      <td>24.367168</td>\n",
       "    </tr>\n",
       "    <tr>\n",
       "      <th>4</th>\n",
       "      <td>2001</td>\n",
       "      <td>47.799999</td>\n",
       "      <td>41.785493</td>\n",
       "    </tr>\n",
       "    <tr>\n",
       "      <th>5</th>\n",
       "      <td>2010</td>\n",
       "      <td>23.700001</td>\n",
       "      <td>29.726652</td>\n",
       "    </tr>\n",
       "    <tr>\n",
       "      <th>6</th>\n",
       "      <td>2019</td>\n",
       "      <td>25.600000</td>\n",
       "      <td>17.667812</td>\n",
       "    </tr>\n",
       "    <tr>\n",
       "      <th>7</th>\n",
       "      <td>2006</td>\n",
       "      <td>33.299999</td>\n",
       "      <td>35.086137</td>\n",
       "    </tr>\n",
       "    <tr>\n",
       "      <th>8</th>\n",
       "      <td>2013</td>\n",
       "      <td>26.299999</td>\n",
       "      <td>25.707039</td>\n",
       "    </tr>\n",
       "    <tr>\n",
       "      <th>9</th>\n",
       "      <td>2003</td>\n",
       "      <td>40.599998</td>\n",
       "      <td>39.105750</td>\n",
       "    </tr>\n",
       "  </tbody>\n",
       "</table>\n",
       "</div>"
      ],
      "text/plain": [
       "   x_test     y_test     y_pred\n",
       "0    2017  23.000000  20.347554\n",
       "1    2009  24.400000  31.066523\n",
       "2    2007  29.799999  33.746266\n",
       "3    2014  24.200001  24.367168\n",
       "4    2001  47.799999  41.785493\n",
       "5    2010  23.700001  29.726652\n",
       "6    2019  25.600000  17.667812\n",
       "7    2006  33.299999  35.086137\n",
       "8    2013  26.299999  25.707039\n",
       "9    2003  40.599998  39.105750"
      ]
     },
     "execution_count": 97,
     "metadata": {},
     "output_type": "execute_result"
    }
   ],
   "source": [
    "# Create a DataFrame from X_test, y_test, and y_pred\n",
    "test_df = pd.DataFrame({'x_test': X_test.flatten(), 'y_test': y_test, 'y_pred': y_pred})\n",
    "\n",
    "# Display the rows of the DataFrame to see over-predictions and under-predictions\n",
    "test_df"
   ]
  },
  {
   "cell_type": "code",
   "execution_count": 98,
   "id": "e74ffa49",
   "metadata": {},
   "outputs": [
    {
     "data": {
      "text/plain": [
       "[<matplotlib.lines.Line2D at 0x7fdfaa6561c0>]"
      ]
     },
     "execution_count": 98,
     "metadata": {},
     "output_type": "execute_result"
    },
    {
     "data": {
      "image/png": "[encoded data removed]",
      "text/plain": [
       "<Figure size 432x288 with 1 Axes>"
      ]
     },
     "metadata": {
      "needs_background": "light"
     },
     "output_type": "display_data"
    }
   ],
   "source": [
    "# Visualising the Training set results\n",
    "plt.scatter(X_train, y_train, color = 'blue')\n",
    "plt.title('Visualization of Training Data')\n",
    "plt.xlabel('Years of Research Experience')\n",
    "plt.ylabel('Stipend')\n",
    "plt.plot(X_train, linear_regressor.predict(X_train), color = 'black')"
   ]
  },
  {
   "cell_type": "code",
   "execution_count": 99,
   "id": "855cd933",
   "metadata": {},
   "outputs": [
    {
     "data": {
      "image/png": "[encoded data removed]",
      "text/plain": [
       "<Figure size 432x288 with 1 Axes>"
      ]
     },
     "metadata": {
      "needs_background": "light"
     },
     "output_type": "display_data"
    }
   ],
   "source": [
    "# Plot the data set\n",
    "plt.plot(X, Y, color='blue', label='Data Set')\n",
    "\n",
    "#Scatter the training data \n",
    "plt.scatter(X_train, y_train, color = 'black')\n",
    "# Plot the prediction\n",
    "plt.plot(X_test, y_pred, color='red', label='Prediction')\n",
    "\n",
    "# Add labels and title to the plot\n",
    "plt.xlabel('X')\n",
    "plt.ylabel('y')\n",
    "plt.title('Data Set vs. Prediction')\n",
    "\n",
    "# Add a legend to the plot\n",
    "plt.legend()\n",
    "\n",
    "# Show the plot\n",
    "plt.show()"
   ]
  },
  {
   "cell_type": "markdown",
   "id": "89d7d020",
   "metadata": {},
   "source": [
    "2.REPEAT THE PROCESS FOR OTHER COUNTRIES"
   ]
  },
  {
   "cell_type": "markdown",
   "id": "cf3e2006",
   "metadata": {},
   "source": [
    "@Q1, How to find any entity's data from the dataset?"
   ]
  },
  {
   "cell_type": "markdown",
   "id": "0341d9b2",
   "metadata": {},
   "source": [
    "The first country was Afghanistan which was easy to see by just reading the first few columns, Here's a more simple way of getting data for one country."
   ]
  },
  {
   "cell_type": "markdown",
   "id": "450481d9",
   "metadata": {},
   "source": [
    "2.1. Find the names of the countries"
   ]
  },
  {
   "cell_type": "code",
   "execution_count": 100,
   "id": "159dae55",
   "metadata": {},
   "outputs": [
    {
     "data": {
      "text/plain": [
       "array(['Afghanistan', 'Albania', 'Algeria', 'Angola', 'Argentina',\n",
       "       'Armenia', 'Australia', 'Austria', 'Azerbaijan', 'Bangladesh',\n",
       "       'Barbados', 'Belarus', 'Belgium', 'Belize', 'Benin', 'Bolivia',\n",
       "       'Bosnia and Herzegovina', 'Botswana', 'Brazil', 'Brunei',\n",
       "       'Bulgaria', 'Burkina Faso', 'Cambodia', 'Cameroon', 'Canada',\n",
       "       'Cape Verde', 'Central African Republic', 'Chad', 'Chile', 'China',\n",
       "       'Colombia', 'Congo', 'Costa Rica', \"Cote d'Ivoire\", 'Croatia',\n",
       "       'Cuba', 'Cyprus', 'Czechia', 'Democratic Republic of Congo',\n",
       "       'Denmark', 'Djibouti', 'Dominica', 'Dominican Republic',\n",
       "       'East Asia and Pacific', 'Ecuador', 'Egypt', 'El Salvador',\n",
       "       'Estonia', 'Eswatini', 'Ethiopia', 'Europe and Central Asia',\n",
       "       'European Union', 'Fiji', 'Finland', 'France', 'French Polynesia',\n",
       "       'Gabon', 'Gambia', 'Georgia', 'Germany', 'Ghana', 'Greece',\n",
       "       'Guatemala', 'Guyana', 'Haiti', 'High income', 'Honduras',\n",
       "       'Hong Kong', 'Hungary', 'Iceland', 'India', 'Indonesia', 'Iran',\n",
       "       'Iraq', 'Ireland', 'Israel', 'Italy', 'Jamaica', 'Japan', 'Jordan',\n",
       "       'Kazakhstan', 'Kenya', 'Kiribati', 'Kuwait', 'Kyrgyzstan', 'Laos',\n",
       "       'Latin America and Caribbean', 'Latvia', 'Lebanon', 'Lesotho',\n",
       "       'Liberia', 'Lithuania', 'Low and middle income', 'Low income',\n",
       "       'Lower middle income', 'Luxembourg', 'Macao', 'Madagascar',\n",
       "       'Malawi', 'Malaysia', 'Mali', 'Malta', 'Mauritania', 'Mauritius',\n",
       "       'Mexico', 'Middle East and North Africa', 'Middle income',\n",
       "       'Mongolia', 'Montenegro', 'Morocco', 'Mozambique', 'Myanmar',\n",
       "       'Namibia', 'Nepal', 'Netherlands', 'New Caledonia', 'New Zealand',\n",
       "       'Nicaragua', 'Nigeria', 'North America', 'North Korea',\n",
       "       'North Macedonia', 'Norway', 'Oman', 'Pakistan', 'Panama',\n",
       "       'Papua New Guinea', 'Paraguay', 'Peru', 'Philippines', 'Poland',\n",
       "       'Portugal', 'Romania', 'Russia', 'Rwanda',\n",
       "       'Saint Vincent and the Grenadines', 'Samoa',\n",
       "       'Sao Tome and Principe', 'Saudi Arabia', 'Senegal', 'Serbia',\n",
       "       'Sierra Leone', 'Slovakia', 'Slovenia', 'Solomon Islands',\n",
       "       'Somalia', 'South Africa', 'South Asia', 'South Korea', 'Spain',\n",
       "       'Sri Lanka', 'Sub-Saharan Africa', 'Sudan', 'Suriname', 'Sweden',\n",
       "       'Switzerland', 'Tanzania', 'Thailand', 'Timor', 'Togo',\n",
       "       'Trinidad and Tobago', 'Tunisia', 'Turkey', 'Turkmenistan',\n",
       "       'Ukraine', 'United Arab Emirates', 'United Kingdom',\n",
       "       'United States', 'Upper middle income', 'Uruguay', 'Uzbekistan',\n",
       "       'Vanuatu', 'Venezuela', 'Vietnam', 'World', 'Yemen'], dtype=object)"
      ]
     },
     "execution_count": 100,
     "metadata": {},
     "output_type": "execute_result"
    }
   ],
   "source": [
    "# Get the unique values in the 'Entity' column\n",
    "Entity = df['Entity'].unique()\n",
    "\n",
    "# Print the unique entities\n",
    "Entity"
   ]
  },
  {
   "cell_type": "markdown",
   "id": "f45f44aa",
   "metadata": {},
   "source": [
    "2.2 How to find rows for a single region inside the large data frame"
   ]
  },
  {
   "cell_type": "code",
   "execution_count": 101,
   "id": "10f58610",
   "metadata": {},
   "outputs": [
    {
     "data": {
      "text/html": [
       "<div>\n",
       "<style scoped>\n",
       "    .dataframe tbody tr th:only-of-type {\n",
       "        vertical-align: middle;\n",
       "    }\n",
       "\n",
       "    .dataframe tbody tr th {\n",
       "        vertical-align: top;\n",
       "    }\n",
       "\n",
       "    .dataframe thead th {\n",
       "        text-align: right;\n",
       "    }\n",
       "</style>\n",
       "<table border=\"1\" class=\"dataframe\">\n",
       "  <thead>\n",
       "    <tr style=\"text-align: right;\">\n",
       "      <th></th>\n",
       "      <th>Entity</th>\n",
       "      <th>Code</th>\n",
       "      <th>Year</th>\n",
       "      <th>Prevalence of undernourishment (% of population)</th>\n",
       "    </tr>\n",
       "  </thead>\n",
       "  <tbody>\n",
       "    <tr>\n",
       "      <th>1862</th>\n",
       "      <td>Malawi</td>\n",
       "      <td>MWI</td>\n",
       "      <td>2001</td>\n",
       "      <td>23.600000</td>\n",
       "    </tr>\n",
       "    <tr>\n",
       "      <th>1863</th>\n",
       "      <td>Malawi</td>\n",
       "      <td>MWI</td>\n",
       "      <td>2002</td>\n",
       "      <td>23.799999</td>\n",
       "    </tr>\n",
       "    <tr>\n",
       "      <th>1864</th>\n",
       "      <td>Malawi</td>\n",
       "      <td>MWI</td>\n",
       "      <td>2003</td>\n",
       "      <td>24.600000</td>\n",
       "    </tr>\n",
       "    <tr>\n",
       "      <th>1865</th>\n",
       "      <td>Malawi</td>\n",
       "      <td>MWI</td>\n",
       "      <td>2004</td>\n",
       "      <td>24.000000</td>\n",
       "    </tr>\n",
       "    <tr>\n",
       "      <th>1866</th>\n",
       "      <td>Malawi</td>\n",
       "      <td>MWI</td>\n",
       "      <td>2005</td>\n",
       "      <td>22.500000</td>\n",
       "    </tr>\n",
       "    <tr>\n",
       "      <th>1867</th>\n",
       "      <td>Malawi</td>\n",
       "      <td>MWI</td>\n",
       "      <td>2006</td>\n",
       "      <td>20.799999</td>\n",
       "    </tr>\n",
       "    <tr>\n",
       "      <th>1868</th>\n",
       "      <td>Malawi</td>\n",
       "      <td>MWI</td>\n",
       "      <td>2007</td>\n",
       "      <td>19.299999</td>\n",
       "    </tr>\n",
       "    <tr>\n",
       "      <th>1869</th>\n",
       "      <td>Malawi</td>\n",
       "      <td>MWI</td>\n",
       "      <td>2008</td>\n",
       "      <td>19.000000</td>\n",
       "    </tr>\n",
       "    <tr>\n",
       "      <th>1870</th>\n",
       "      <td>Malawi</td>\n",
       "      <td>MWI</td>\n",
       "      <td>2009</td>\n",
       "      <td>17.500000</td>\n",
       "    </tr>\n",
       "    <tr>\n",
       "      <th>1871</th>\n",
       "      <td>Malawi</td>\n",
       "      <td>MWI</td>\n",
       "      <td>2010</td>\n",
       "      <td>16.400000</td>\n",
       "    </tr>\n",
       "    <tr>\n",
       "      <th>1872</th>\n",
       "      <td>Malawi</td>\n",
       "      <td>MWI</td>\n",
       "      <td>2011</td>\n",
       "      <td>15.200000</td>\n",
       "    </tr>\n",
       "    <tr>\n",
       "      <th>1873</th>\n",
       "      <td>Malawi</td>\n",
       "      <td>MWI</td>\n",
       "      <td>2012</td>\n",
       "      <td>15.900000</td>\n",
       "    </tr>\n",
       "    <tr>\n",
       "      <th>1874</th>\n",
       "      <td>Malawi</td>\n",
       "      <td>MWI</td>\n",
       "      <td>2013</td>\n",
       "      <td>16.200001</td>\n",
       "    </tr>\n",
       "    <tr>\n",
       "      <th>1875</th>\n",
       "      <td>Malawi</td>\n",
       "      <td>MWI</td>\n",
       "      <td>2014</td>\n",
       "      <td>16.100000</td>\n",
       "    </tr>\n",
       "    <tr>\n",
       "      <th>1876</th>\n",
       "      <td>Malawi</td>\n",
       "      <td>MWI</td>\n",
       "      <td>2015</td>\n",
       "      <td>16.000000</td>\n",
       "    </tr>\n",
       "    <tr>\n",
       "      <th>1877</th>\n",
       "      <td>Malawi</td>\n",
       "      <td>MWI</td>\n",
       "      <td>2016</td>\n",
       "      <td>16.100000</td>\n",
       "    </tr>\n",
       "    <tr>\n",
       "      <th>1878</th>\n",
       "      <td>Malawi</td>\n",
       "      <td>MWI</td>\n",
       "      <td>2017</td>\n",
       "      <td>16.500000</td>\n",
       "    </tr>\n",
       "    <tr>\n",
       "      <th>1879</th>\n",
       "      <td>Malawi</td>\n",
       "      <td>MWI</td>\n",
       "      <td>2018</td>\n",
       "      <td>16.799999</td>\n",
       "    </tr>\n",
       "    <tr>\n",
       "      <th>1880</th>\n",
       "      <td>Malawi</td>\n",
       "      <td>MWI</td>\n",
       "      <td>2019</td>\n",
       "      <td>17.299999</td>\n",
       "    </tr>\n",
       "  </tbody>\n",
       "</table>\n",
       "</div>"
      ],
      "text/plain": [
       "      Entity Code  Year  Prevalence of undernourishment (% of population)\n",
       "1862  Malawi  MWI  2001                                         23.600000\n",
       "1863  Malawi  MWI  2002                                         23.799999\n",
       "1864  Malawi  MWI  2003                                         24.600000\n",
       "1865  Malawi  MWI  2004                                         24.000000\n",
       "1866  Malawi  MWI  2005                                         22.500000\n",
       "1867  Malawi  MWI  2006                                         20.799999\n",
       "1868  Malawi  MWI  2007                                         19.299999\n",
       "1869  Malawi  MWI  2008                                         19.000000\n",
       "1870  Malawi  MWI  2009                                         17.500000\n",
       "1871  Malawi  MWI  2010                                         16.400000\n",
       "1872  Malawi  MWI  2011                                         15.200000\n",
       "1873  Malawi  MWI  2012                                         15.900000\n",
       "1874  Malawi  MWI  2013                                         16.200001\n",
       "1875  Malawi  MWI  2014                                         16.100000\n",
       "1876  Malawi  MWI  2015                                         16.000000\n",
       "1877  Malawi  MWI  2016                                         16.100000\n",
       "1878  Malawi  MWI  2017                                         16.500000\n",
       "1879  Malawi  MWI  2018                                         16.799999\n",
       "1880  Malawi  MWI  2019                                         17.299999"
      ]
     },
     "execution_count": 101,
     "metadata": {},
     "output_type": "execute_result"
    }
   ],
   "source": [
    "# Select only the rows for the country/region of interest (e.g., 'Malawi')\n",
    "df_MWI = df[df['Entity'] == 'Malawi']\n",
    "df_MWI"
   ]
  },
  {
   "cell_type": "code",
   "execution_count": 102,
   "id": "f0585c13",
   "metadata": {},
   "outputs": [
    {
     "data": {
      "text/plain": [
       "1862"
      ]
     },
     "execution_count": 102,
     "metadata": {},
     "output_type": "execute_result"
    }
   ],
   "source": [
    "# Get the index of the first row of the Malawi data\n",
    "df_MWI_start_row = df_MWI.index[0]\n",
    "df_MWI_start_row"
   ]
  },
  {
   "cell_type": "code",
   "execution_count": 103,
   "id": "cee33997",
   "metadata": {},
   "outputs": [
    {
     "data": {
      "text/plain": [
       "1880"
      ]
     },
     "execution_count": 103,
     "metadata": {},
     "output_type": "execute_result"
    }
   ],
   "source": [
    "# Get the index of the last row of the Malawi data\n",
    "df_MWI_last_row = df_MWI.index[-1]\n",
    "df_MWI_last_row"
   ]
  },
  {
   "cell_type": "markdown",
   "id": "71ac0b94",
   "metadata": {},
   "source": [
    "@Q2 How to improve my code by not repeating the whole process again and again?"
   ]
  },
  {
   "cell_type": "markdown",
   "id": "806eef53",
   "metadata": {},
   "source": [
    "3.TO IMPROVE MY CODE, I DECIDED TO WRITE A FUNCTION SO THAT THE USER CAN JUST TYPE THE COUNTRY TO GENERATE A CLEAR FINAL VISUALIZATION CONTAINING THE REAL DATA AND A LINE OF PREDICTION IN ORDER TO READ EASILY THE OVER-PREDICTIONS AND THE UNDER-PREDICTIONS."
   ]
  },
  {
   "cell_type": "code",
   "execution_count": 104,
   "id": "8271cede",
   "metadata": {},
   "outputs": [],
   "source": [
    "def create_linear_regression_plot(country):\n",
    "    # Opening the data frame\n",
    "    df = pd.read_csv('prevalence-of-undernourishment.csv')\n",
    "    \n",
    "    # Check if the country is in the data frame\n",
    "    if country not in df['Entity'].unique():\n",
    "        print(f\"{country} is not present in the data frame.\")\n",
    "        return\n",
    "\n",
    "    # Isolate dataframe for one country using .iloc[] \n",
    "    df_country = df.iloc[df.index[df['Entity'] == country][0]:df.index[df['Entity'] == country][0]+19]\n",
    "\n",
    "    # Select only the columns you want to keep.\n",
    "    df_reduced_country = df_country.loc[:, ['Year', 'Prevalence of undernourishment (% of population)']]\n",
    "\n",
    "    # Rename the columns\n",
    "    df_reduced_country.columns = ['X', 'Y']\n",
    "\n",
    "    # X is created by selecting all rows of df_reduced_country and all columns except for the last one\n",
    "    X = df_reduced_country.iloc[:, :-1].values\n",
    "    y = df_reduced_country.iloc[:, 1].values\n",
    "\n",
    "    # Split the data into training and testing sets, with 1/2 of the data as the test set selected randomly\n",
    "    X_train, X_test, y_train, y_test = train_test_split(X, y, test_size=1/2)\n",
    "\n",
    "    # Create a DataFrame from X_train and y_train\n",
    "    train_df = pd.DataFrame({'X': X_train.flatten(), 'y': y_train})\n",
    "\n",
    "    # Fit the linear regression model to the training data\n",
    "    linear_regressor = LinearRegression()\n",
    "    linear_regressor.fit(X_train, y_train)\n",
    "\n",
    "    # Predict the test set results\n",
    "    y_pred = linear_regressor.predict(X_test)\n",
    "\n",
    "    # Plot the data set\n",
    "    plt.plot(X, y, color='blue', label='Data Set')\n",
    "\n",
    "    # Plot the prediction\n",
    "    plt.plot(X_test, y_pred, color='red', label='Prediction')\n",
    "\n",
    "    # Add labels and title to the plot\n",
    "    plt.xlabel('Year')\n",
    "    plt.ylabel('Prevalence of undernourishment (% of population)')\n",
    "    plt.title(f'{country} - Data Set vs. Prediction')\n",
    "\n",
    "    # Add a legend to the plot\n",
    "    plt.legend()\n",
    "\n",
    "    # Show the plot\n",
    "    plt.show()"
   ]
  },
  {
   "cell_type": "code",
   "execution_count": 105,
   "id": "cbbc8fe9",
   "metadata": {},
   "outputs": [
    {
     "data": {
      "image/png": "[encoded data removed]",
      "text/plain": [
       "<Figure size 432x288 with 1 Axes>"
      ]
     },
     "metadata": {
      "needs_background": "light"
     },
     "output_type": "display_data"
    }
   ],
   "source": [
    "Papua_New_Guinea = create_linear_regression_plot('Papua New Guinea')"
   ]
  },
  {
   "cell_type": "code",
   "execution_count": 106,
   "id": "beadd12c",
   "metadata": {},
   "outputs": [
    {
     "data": {
      "image/png": "[encoded data removed]",
      "text/plain": [
       "<Figure size 432x288 with 1 Axes>"
      ]
     },
     "metadata": {
      "needs_background": "light"
     },
     "output_type": "display_data"
    }
   ],
   "source": [
    "Vietnam = create_linear_regression_plot('Vietnam')"
   ]
  },
  {
   "cell_type": "code",
   "execution_count": 107,
   "id": "d1197703",
   "metadata": {},
   "outputs": [
    {
     "data": {
      "image/png": "[encoded data removed]",
      "text/plain": [
       "<Figure size 432x288 with 1 Axes>"
      ]
     },
     "metadata": {
      "needs_background": "light"
     },
     "output_type": "display_data"
    }
   ],
   "source": [
    "Mali = create_linear_regression_plot('Mali')"
   ]
  },
  {
   "cell_type": "code",
   "execution_count": 108,
   "id": "8ed42066",
   "metadata": {},
   "outputs": [
    {
     "name": "stdout",
     "output_type": "stream",
     "text": [
      "DRC is not present in the data frame.\n"
     ]
    }
   ],
   "source": [
    "DRC = create_linear_regression_plot('DRC')"
   ]
  },
  {
   "cell_type": "markdown",
   "id": "b70edd9f",
   "metadata": {},
   "source": [
    "Citations and Acknowledgement:\n",
    "    Max Roser and Hannah Ritchie (2019) - \"Hunger and Undernourishment\". Published online at OurWorldInData.org. Retrieved from: 'https://ourworldindata.org/hunger-and-undernourishment' [Online Resource]"
   ]
  }
 ],
 "metadata": {
  "kernelspec": {
   "display_name": "Python 3 (ipykernel)",
   "language": "python",
   "name": "python3"
  },
  "language_info": {
   "codemirror_mode": {
    "name": "ipython",
    "version": 3
   },
   "file_extension": ".py",
   "mimetype": "text/x-python",
   "name": "python",
   "nbconvert_exporter": "python",
   "pygments_lexer": "ipython3",
   "version": "3.8.10"
  }
 },
 "nbformat": 4,
 "nbformat_minor": 5
}
